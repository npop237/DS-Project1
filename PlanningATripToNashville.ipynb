{
 "cells": [
  {
   "cell_type": "markdown",
   "metadata": {},
   "source": [
    "**Looking at Nashville Airbnb Data**\n",
    "\n",
    "In order to plan a holiday you want to book the best accomodation possible. This notebook will look at airbnb data from Nashville to see\n",
    "* What time of year is the cheapest to visit\n",
    "* How big Nashville airbnbs are\n",
    "* What features to look out for in an airbnb listing\n",
    "\n",
    "First lets get the airbnb calendar data"
   ]
  },
  {
   "cell_type": "code",
   "execution_count": 85,
   "metadata": {},
   "outputs": [
    {
     "data": {
      "text/html": [
       "<div>\n",
       "<style scoped>\n",
       "    .dataframe tbody tr th:only-of-type {\n",
       "        vertical-align: middle;\n",
       "    }\n",
       "\n",
       "    .dataframe tbody tr th {\n",
       "        vertical-align: top;\n",
       "    }\n",
       "\n",
       "    .dataframe thead th {\n",
       "        text-align: right;\n",
       "    }\n",
       "</style>\n",
       "<table border=\"1\" class=\"dataframe\">\n",
       "  <thead>\n",
       "    <tr style=\"text-align: right;\">\n",
       "      <th></th>\n",
       "      <th>listing_id</th>\n",
       "      <th>date</th>\n",
       "      <th>available</th>\n",
       "      <th>price</th>\n",
       "      <th>adjusted_price</th>\n",
       "      <th>minimum_nights</th>\n",
       "      <th>maximum_nights</th>\n",
       "    </tr>\n",
       "  </thead>\n",
       "  <tbody>\n",
       "    <tr>\n",
       "      <td>0</td>\n",
       "      <td>6422</td>\n",
       "      <td>2020-05-18</td>\n",
       "      <td>f</td>\n",
       "      <td>$40.00</td>\n",
       "      <td>$40.00</td>\n",
       "      <td>1.0</td>\n",
       "      <td>730.0</td>\n",
       "    </tr>\n",
       "    <tr>\n",
       "      <td>1</td>\n",
       "      <td>1844680</td>\n",
       "      <td>2020-05-19</td>\n",
       "      <td>f</td>\n",
       "      <td>$50.00</td>\n",
       "      <td>$50.00</td>\n",
       "      <td>1.0</td>\n",
       "      <td>1125.0</td>\n",
       "    </tr>\n",
       "    <tr>\n",
       "      <td>2</td>\n",
       "      <td>1844680</td>\n",
       "      <td>2020-05-20</td>\n",
       "      <td>f</td>\n",
       "      <td>$50.00</td>\n",
       "      <td>$50.00</td>\n",
       "      <td>1.0</td>\n",
       "      <td>1125.0</td>\n",
       "    </tr>\n",
       "    <tr>\n",
       "      <td>3</td>\n",
       "      <td>1844680</td>\n",
       "      <td>2020-05-21</td>\n",
       "      <td>f</td>\n",
       "      <td>$50.00</td>\n",
       "      <td>$50.00</td>\n",
       "      <td>1.0</td>\n",
       "      <td>1125.0</td>\n",
       "    </tr>\n",
       "    <tr>\n",
       "      <td>4</td>\n",
       "      <td>1844680</td>\n",
       "      <td>2020-05-22</td>\n",
       "      <td>f</td>\n",
       "      <td>$51.00</td>\n",
       "      <td>$51.00</td>\n",
       "      <td>1.0</td>\n",
       "      <td>1125.0</td>\n",
       "    </tr>\n",
       "  </tbody>\n",
       "</table>\n",
       "</div>"
      ],
      "text/plain": [
       "   listing_id        date available   price adjusted_price  minimum_nights  \\\n",
       "0        6422  2020-05-18         f  $40.00         $40.00             1.0   \n",
       "1     1844680  2020-05-19         f  $50.00         $50.00             1.0   \n",
       "2     1844680  2020-05-20         f  $50.00         $50.00             1.0   \n",
       "3     1844680  2020-05-21         f  $50.00         $50.00             1.0   \n",
       "4     1844680  2020-05-22         f  $51.00         $51.00             1.0   \n",
       "\n",
       "   maximum_nights  \n",
       "0           730.0  \n",
       "1          1125.0  \n",
       "2          1125.0  \n",
       "3          1125.0  \n",
       "4          1125.0  "
      ]
     },
     "execution_count": 85,
     "metadata": {},
     "output_type": "execute_result"
    }
   ],
   "source": [
    "# Import necessary libraries and read the data\n",
    "import numpy as np\n",
    "import pandas as pd\n",
    "import matplotlib.pyplot as plt\n",
    "from sklearn.linear_model import LinearRegression\n",
    "from sklearn.model_selection import train_test_split\n",
    "from sklearn.metrics import r2_score, mean_squared_error\n",
    "import seaborn as sns\n",
    "%matplotlib inline\n",
    "\n",
    "calendar_df = pd.read_csv('./calendar.csv')\n",
    "calendar_df.head()"
   ]
  },
  {
   "cell_type": "code",
   "execution_count": 2,
   "metadata": {},
   "outputs": [
    {
     "data": {
      "text/plain": [
       "listing_id          int64\n",
       "date               object\n",
       "available          object\n",
       "price              object\n",
       "adjusted_price     object\n",
       "minimum_nights    float64\n",
       "maximum_nights    float64\n",
       "dtype: object"
      ]
     },
     "execution_count": 2,
     "metadata": {},
     "output_type": "execute_result"
    }
   ],
   "source": [
    "calendar_df.dtypes"
   ]
  },
  {
   "cell_type": "markdown",
   "metadata": {},
   "source": [
    "First to explore the data properly we will need to change the formats of the object columns"
   ]
  },
  {
   "cell_type": "code",
   "execution_count": 3,
   "metadata": {},
   "outputs": [],
   "source": [
    "#Changing date column to a datetime format\n",
    "calendar_df['date'] = pd.to_datetime(calendar_df['date'])\n",
    "\n",
    "#Changing available to a bool rather than string\n",
    "calendar_df.replace({'available': {'t': True, 'f': False}}, inplace=True)\n",
    "\n",
    "#Removing the $ sign from the two price columns\n",
    "calendar_df['price'] = calendar_df['price'].str.replace(',', '').str.replace('$', '').astype(float)\n",
    "calendar_df['adjusted_price'] = calendar_df['adjusted_price'].str.replace(',', '').str.replace('$', '').astype(float)"
   ]
  },
  {
   "cell_type": "code",
   "execution_count": 4,
   "metadata": {},
   "outputs": [
    {
     "data": {
      "text/plain": [
       "listing_id                 int64\n",
       "date              datetime64[ns]\n",
       "available                   bool\n",
       "price                    float64\n",
       "adjusted_price           float64\n",
       "minimum_nights           float64\n",
       "maximum_nights           float64\n",
       "dtype: object"
      ]
     },
     "execution_count": 4,
     "metadata": {},
     "output_type": "execute_result"
    }
   ],
   "source": [
    "calendar_df.dtypes"
   ]
  },
  {
   "cell_type": "code",
   "execution_count": 5,
   "metadata": {},
   "outputs": [
    {
     "data": {
      "text/html": [
       "<div>\n",
       "<style scoped>\n",
       "    .dataframe tbody tr th:only-of-type {\n",
       "        vertical-align: middle;\n",
       "    }\n",
       "\n",
       "    .dataframe tbody tr th {\n",
       "        vertical-align: top;\n",
       "    }\n",
       "\n",
       "    .dataframe thead th {\n",
       "        text-align: right;\n",
       "    }\n",
       "</style>\n",
       "<table border=\"1\" class=\"dataframe\">\n",
       "  <thead>\n",
       "    <tr style=\"text-align: right;\">\n",
       "      <th></th>\n",
       "      <th>listing_id</th>\n",
       "      <th>price</th>\n",
       "      <th>adjusted_price</th>\n",
       "      <th>minimum_nights</th>\n",
       "      <th>maximum_nights</th>\n",
       "    </tr>\n",
       "  </thead>\n",
       "  <tbody>\n",
       "    <tr>\n",
       "      <td>count</td>\n",
       "      <td>2.602203e+06</td>\n",
       "      <td>2.602203e+06</td>\n",
       "      <td>2.602203e+06</td>\n",
       "      <td>2.602100e+06</td>\n",
       "      <td>2.602100e+06</td>\n",
       "    </tr>\n",
       "    <tr>\n",
       "      <td>mean</td>\n",
       "      <td>2.743255e+07</td>\n",
       "      <td>4.163606e+02</td>\n",
       "      <td>4.154632e+02</td>\n",
       "      <td>5.391854e+00</td>\n",
       "      <td>1.084431e+06</td>\n",
       "    </tr>\n",
       "    <tr>\n",
       "      <td>std</td>\n",
       "      <td>1.153207e+07</td>\n",
       "      <td>2.172259e+05</td>\n",
       "      <td>2.172259e+05</td>\n",
       "      <td>1.502799e+01</td>\n",
       "      <td>4.822703e+07</td>\n",
       "    </tr>\n",
       "    <tr>\n",
       "      <td>min</td>\n",
       "      <td>6.422000e+03</td>\n",
       "      <td>1.000000e+01</td>\n",
       "      <td>1.000000e+00</td>\n",
       "      <td>1.000000e+00</td>\n",
       "      <td>1.000000e+00</td>\n",
       "    </tr>\n",
       "    <tr>\n",
       "      <td>25%</td>\n",
       "      <td>1.905304e+07</td>\n",
       "      <td>1.020000e+02</td>\n",
       "      <td>1.010000e+02</td>\n",
       "      <td>1.000000e+00</td>\n",
       "      <td>3.650000e+02</td>\n",
       "    </tr>\n",
       "    <tr>\n",
       "      <td>50%</td>\n",
       "      <td>2.934593e+07</td>\n",
       "      <td>1.760000e+02</td>\n",
       "      <td>1.750000e+02</td>\n",
       "      <td>2.000000e+00</td>\n",
       "      <td>1.125000e+03</td>\n",
       "    </tr>\n",
       "    <tr>\n",
       "      <td>75%</td>\n",
       "      <td>3.780863e+07</td>\n",
       "      <td>3.050000e+02</td>\n",
       "      <td>3.020000e+02</td>\n",
       "      <td>3.000000e+00</td>\n",
       "      <td>1.125000e+03</td>\n",
       "    </tr>\n",
       "    <tr>\n",
       "      <td>max</td>\n",
       "      <td>4.346961e+07</td>\n",
       "      <td>3.504143e+08</td>\n",
       "      <td>3.504143e+08</td>\n",
       "      <td>5.500000e+02</td>\n",
       "      <td>2.147484e+09</td>\n",
       "    </tr>\n",
       "  </tbody>\n",
       "</table>\n",
       "</div>"
      ],
      "text/plain": [
       "         listing_id         price  adjusted_price  minimum_nights  \\\n",
       "count  2.602203e+06  2.602203e+06    2.602203e+06    2.602100e+06   \n",
       "mean   2.743255e+07  4.163606e+02    4.154632e+02    5.391854e+00   \n",
       "std    1.153207e+07  2.172259e+05    2.172259e+05    1.502799e+01   \n",
       "min    6.422000e+03  1.000000e+01    1.000000e+00    1.000000e+00   \n",
       "25%    1.905304e+07  1.020000e+02    1.010000e+02    1.000000e+00   \n",
       "50%    2.934593e+07  1.760000e+02    1.750000e+02    2.000000e+00   \n",
       "75%    3.780863e+07  3.050000e+02    3.020000e+02    3.000000e+00   \n",
       "max    4.346961e+07  3.504143e+08    3.504143e+08    5.500000e+02   \n",
       "\n",
       "       maximum_nights  \n",
       "count    2.602100e+06  \n",
       "mean     1.084431e+06  \n",
       "std      4.822703e+07  \n",
       "min      1.000000e+00  \n",
       "25%      3.650000e+02  \n",
       "50%      1.125000e+03  \n",
       "75%      1.125000e+03  \n",
       "max      2.147484e+09  "
      ]
     },
     "execution_count": 5,
     "metadata": {},
     "output_type": "execute_result"
    }
   ],
   "source": [
    "calendar_df.describe()"
   ]
  },
  {
   "cell_type": "markdown",
   "metadata": {},
   "source": [
    "Start investigating the data - there are two different prices given so we want to see how often the price is adjusted before dropping one of the columns"
   ]
  },
  {
   "cell_type": "code",
   "execution_count": 6,
   "metadata": {},
   "outputs": [
    {
     "data": {
      "text/plain": [
       " 0.0      2510521\n",
       " 17.0        4241\n",
       " 20.0        3534\n",
       " 4.0         3322\n",
       " 15.0        3282\n",
       "           ...   \n",
       " 506.0          1\n",
       "-128.0          1\n",
       " 221.0          1\n",
       "-31.0           1\n",
       "-37.0           1\n",
       "Name: price_difference, Length: 413, dtype: int64"
      ]
     },
     "execution_count": 6,
     "metadata": {},
     "output_type": "execute_result"
    }
   ],
   "source": [
    "calendar_df['price_difference'] = calendar_df['price'] - calendar_df['adjusted_price']\n",
    "calendar_df['price_difference'].value_counts()"
   ]
  },
  {
   "cell_type": "markdown",
   "metadata": {},
   "source": [
    "As 98% of the adjusted prices are the same as the price we can drop the price column and take the adjusted price as the final price"
   ]
  },
  {
   "cell_type": "code",
   "execution_count": 7,
   "metadata": {},
   "outputs": [],
   "source": [
    "calendar_df.drop(columns=['price','price_difference'], inplace=True)"
   ]
  },
  {
   "cell_type": "markdown",
   "metadata": {},
   "source": [
    "Next we want to remove any rows that aren't suitable for our trip. This includes properties that require a stay of more than 7 nights as we're only looking at a vacation. We can also assume that the trip will be at least three nights for the majority of people"
   ]
  },
  {
   "cell_type": "code",
   "execution_count": 8,
   "metadata": {},
   "outputs": [],
   "source": [
    "calendar_df = calendar_df[calendar_df['minimum_nights'] < 7.0]\n",
    "calendar_df = calendar_df[calendar_df['maximum_nights'] > 3.0]\n",
    "\n",
    "# Also remove any cases where the host has set a ridiculously high price\n",
    "calendar_df = calendar_df[calendar_df['adjusted_price'] < 10000.0]"
   ]
  },
  {
   "cell_type": "markdown",
   "metadata": {},
   "source": [
    "Now we want to see how price varies across the year"
   ]
  },
  {
   "cell_type": "code",
   "execution_count": 9,
   "metadata": {},
   "outputs": [],
   "source": [
    "# Remove columns that are no longer needed\n",
    "calendar_df.drop(columns=['listing_id','minimum_nights', 'maximum_nights'], inplace=True)"
   ]
  },
  {
   "cell_type": "code",
   "execution_count": 10,
   "metadata": {},
   "outputs": [],
   "source": [
    "weekly_pricing = calendar_df.groupby(pd.Grouper(key='date', freq='W')).mean()"
   ]
  },
  {
   "cell_type": "code",
   "execution_count": 11,
   "metadata": {},
   "outputs": [
    {
     "data": {
      "text/html": [
       "<div>\n",
       "<style scoped>\n",
       "    .dataframe tbody tr th:only-of-type {\n",
       "        vertical-align: middle;\n",
       "    }\n",
       "\n",
       "    .dataframe tbody tr th {\n",
       "        vertical-align: top;\n",
       "    }\n",
       "\n",
       "    .dataframe thead th {\n",
       "        text-align: right;\n",
       "    }\n",
       "</style>\n",
       "<table border=\"1\" class=\"dataframe\">\n",
       "  <thead>\n",
       "    <tr style=\"text-align: right;\">\n",
       "      <th></th>\n",
       "      <th>available</th>\n",
       "      <th>adjusted_price</th>\n",
       "    </tr>\n",
       "    <tr>\n",
       "      <th>date</th>\n",
       "      <th></th>\n",
       "      <th></th>\n",
       "    </tr>\n",
       "  </thead>\n",
       "  <tbody>\n",
       "    <tr>\n",
       "      <td>2020-05-24</td>\n",
       "      <td>0.479436</td>\n",
       "      <td>223.771632</td>\n",
       "    </tr>\n",
       "    <tr>\n",
       "      <td>2020-05-31</td>\n",
       "      <td>0.589157</td>\n",
       "      <td>221.821028</td>\n",
       "    </tr>\n",
       "    <tr>\n",
       "      <td>2020-06-07</td>\n",
       "      <td>0.626810</td>\n",
       "      <td>267.127291</td>\n",
       "    </tr>\n",
       "    <tr>\n",
       "      <td>2020-06-14</td>\n",
       "      <td>0.629082</td>\n",
       "      <td>247.501960</td>\n",
       "    </tr>\n",
       "    <tr>\n",
       "      <td>2020-06-21</td>\n",
       "      <td>0.635228</td>\n",
       "      <td>247.750346</td>\n",
       "    </tr>\n",
       "  </tbody>\n",
       "</table>\n",
       "</div>"
      ],
      "text/plain": [
       "            available  adjusted_price\n",
       "date                                 \n",
       "2020-05-24   0.479436      223.771632\n",
       "2020-05-31   0.589157      221.821028\n",
       "2020-06-07   0.626810      267.127291\n",
       "2020-06-14   0.629082      247.501960\n",
       "2020-06-21   0.635228      247.750346"
      ]
     },
     "execution_count": 11,
     "metadata": {},
     "output_type": "execute_result"
    }
   ],
   "source": [
    "weekly_pricing.head()"
   ]
  },
  {
   "cell_type": "code",
   "execution_count": 12,
   "metadata": {},
   "outputs": [
    {
     "name": "stderr",
     "output_type": "stream",
     "text": [
      "/Users/Neel/opt/anaconda3/lib/python3.7/site-packages/pandas/plotting/_matplotlib/converter.py:103: FutureWarning: Using an implicitly registered datetime converter for a matplotlib plotting method. The converter was registered by pandas on import. Future versions of pandas will require you to explicitly register matplotlib converters.\n",
      "\n",
      "To register the converters:\n",
      "\t>>> from pandas.plotting import register_matplotlib_converters\n",
      "\t>>> register_matplotlib_converters()\n",
      "  warnings.warn(msg, FutureWarning)\n"
     ]
    },
    {
     "data": {
      "image/png": "[encoded data removed]",
      "text/plain": [
       "<Figure size 720x720 with 1 Axes>"
      ]
     },
     "metadata": {
      "needs_background": "light"
     },
     "output_type": "display_data"
    }
   ],
   "source": [
    "fig, ax = plt.subplots(figsize=(10,10))\n",
    "ax.scatter(weekly_pricing.index, weekly_pricing.adjusted_price, s = 30, color = '#539caf', alpha = 0.75)\n",
    "\n",
    "ax.set_title('Avg Price of Airbnbs in Nashville Per Nights Stay in USD')\n",
    "fig.autofmt_xdate()"
   ]
  },
  {
   "cell_type": "code",
   "execution_count": 13,
   "metadata": {},
   "outputs": [
    {
     "data": {
      "image/png": "[encoded data removed]",
      "text/plain": [
       "<Figure size 720x720 with 1 Axes>"
      ]
     },
     "metadata": {
      "needs_background": "light"
     },
     "output_type": "display_data"
    }
   ],
   "source": [
    "fig, ax = plt.subplots(figsize=(10,10))\n",
    "ax.scatter(weekly_pricing.index, weekly_pricing.available, s = 30, color = '#539caf', alpha = 0.75)\n",
    "\n",
    "ax.set_title('Proportion of Properties still available to book')\n",
    "fig.autofmt_xdate()"
   ]
  },
  {
   "cell_type": "markdown",
   "metadata": {},
   "source": [
    "**Looking at the properties that are listed and how big they are**\n",
    "\n",
    "First we need to read in the new dataset"
   ]
  },
  {
   "cell_type": "code",
   "execution_count": 14,
   "metadata": {},
   "outputs": [
    {
     "data": {
      "text/html": [
       "<div>\n",
       "<style scoped>\n",
       "    .dataframe tbody tr th:only-of-type {\n",
       "        vertical-align: middle;\n",
       "    }\n",
       "\n",
       "    .dataframe tbody tr th {\n",
       "        vertical-align: top;\n",
       "    }\n",
       "\n",
       "    .dataframe thead th {\n",
       "        text-align: right;\n",
       "    }\n",
       "</style>\n",
       "<table border=\"1\" class=\"dataframe\">\n",
       "  <thead>\n",
       "    <tr style=\"text-align: right;\">\n",
       "      <th></th>\n",
       "      <th>id</th>\n",
       "      <th>listing_url</th>\n",
       "      <th>scrape_id</th>\n",
       "      <th>last_scraped</th>\n",
       "      <th>name</th>\n",
       "      <th>summary</th>\n",
       "      <th>space</th>\n",
       "      <th>description</th>\n",
       "      <th>experiences_offered</th>\n",
       "      <th>neighborhood_overview</th>\n",
       "      <th>...</th>\n",
       "      <th>instant_bookable</th>\n",
       "      <th>is_business_travel_ready</th>\n",
       "      <th>cancellation_policy</th>\n",
       "      <th>require_guest_profile_picture</th>\n",
       "      <th>require_guest_phone_verification</th>\n",
       "      <th>calculated_host_listings_count</th>\n",
       "      <th>calculated_host_listings_count_entire_homes</th>\n",
       "      <th>calculated_host_listings_count_private_rooms</th>\n",
       "      <th>calculated_host_listings_count_shared_rooms</th>\n",
       "      <th>reviews_per_month</th>\n",
       "    </tr>\n",
       "  </thead>\n",
       "  <tbody>\n",
       "    <tr>\n",
       "      <td>0</td>\n",
       "      <td>6422</td>\n",
       "      <td>https://www.airbnb.com/rooms/6422</td>\n",
       "      <td>20200518140247</td>\n",
       "      <td>2020-05-18</td>\n",
       "      <td>Nashville Charm</td>\n",
       "      <td>Turn of century bungalow in historic, hip East...</td>\n",
       "      <td>1920 historic bungalow backs up to city park w...</td>\n",
       "      <td>Turn of century bungalow in historic, hip East...</td>\n",
       "      <td>none</td>\n",
       "      <td>Historic East Nashville is home to many new an...</td>\n",
       "      <td>...</td>\n",
       "      <td>f</td>\n",
       "      <td>f</td>\n",
       "      <td>strict_14_with_grace_period</td>\n",
       "      <td>f</td>\n",
       "      <td>f</td>\n",
       "      <td>1</td>\n",
       "      <td>0</td>\n",
       "      <td>1</td>\n",
       "      <td>0</td>\n",
       "      <td>5.01</td>\n",
       "    </tr>\n",
       "    <tr>\n",
       "      <td>1</td>\n",
       "      <td>20847</td>\n",
       "      <td>https://www.airbnb.com/rooms/20847</td>\n",
       "      <td>20200518140247</td>\n",
       "      <td>2020-05-19</td>\n",
       "      <td>East Nashville Retro Ranch!</td>\n",
       "      <td>This listing is no longer available for short ...</td>\n",
       "      <td>-Retro Ranch is nestled in a quiet part of Sou...</td>\n",
       "      <td>This listing is no longer available for short ...</td>\n",
       "      <td>none</td>\n",
       "      <td>Many local favorites, including live music, th...</td>\n",
       "      <td>...</td>\n",
       "      <td>f</td>\n",
       "      <td>f</td>\n",
       "      <td>strict_14_with_grace_period</td>\n",
       "      <td>t</td>\n",
       "      <td>t</td>\n",
       "      <td>3</td>\n",
       "      <td>0</td>\n",
       "      <td>3</td>\n",
       "      <td>0</td>\n",
       "      <td>1.11</td>\n",
       "    </tr>\n",
       "    <tr>\n",
       "      <td>2</td>\n",
       "      <td>25341</td>\n",
       "      <td>https://www.airbnb.com/rooms/25341</td>\n",
       "      <td>20200518140247</td>\n",
       "      <td>2020-05-18</td>\n",
       "      <td>East Nashville Retro Ranch BR #2</td>\n",
       "      <td>This listing is no longer available for short ...</td>\n",
       "      <td>-Retro Ranch is nestled in a quiet part of Sou...</td>\n",
       "      <td>This listing is no longer available for short ...</td>\n",
       "      <td>none</td>\n",
       "      <td>Many local favorites, including live music, th...</td>\n",
       "      <td>...</td>\n",
       "      <td>f</td>\n",
       "      <td>f</td>\n",
       "      <td>strict_14_with_grace_period</td>\n",
       "      <td>t</td>\n",
       "      <td>t</td>\n",
       "      <td>3</td>\n",
       "      <td>0</td>\n",
       "      <td>3</td>\n",
       "      <td>0</td>\n",
       "      <td>0.89</td>\n",
       "    </tr>\n",
       "    <tr>\n",
       "      <td>3</td>\n",
       "      <td>25342</td>\n",
       "      <td>https://www.airbnb.com/rooms/25342</td>\n",
       "      <td>20200518140247</td>\n",
       "      <td>2020-05-18</td>\n",
       "      <td>East Nashville Retro Ranch BR #3</td>\n",
       "      <td>This listing is no longer available for short ...</td>\n",
       "      <td>Retro Ranch is nestled in a quiet part of Sout...</td>\n",
       "      <td>This listing is no longer available for short ...</td>\n",
       "      <td>none</td>\n",
       "      <td>Many local favorites, including live music, th...</td>\n",
       "      <td>...</td>\n",
       "      <td>f</td>\n",
       "      <td>f</td>\n",
       "      <td>strict_14_with_grace_period</td>\n",
       "      <td>t</td>\n",
       "      <td>t</td>\n",
       "      <td>3</td>\n",
       "      <td>0</td>\n",
       "      <td>3</td>\n",
       "      <td>0</td>\n",
       "      <td>0.04</td>\n",
       "    </tr>\n",
       "    <tr>\n",
       "      <td>4</td>\n",
       "      <td>25613</td>\n",
       "      <td>https://www.airbnb.com/rooms/25613</td>\n",
       "      <td>20200518140247</td>\n",
       "      <td>2020-05-18</td>\n",
       "      <td>Room in Historic East Nashville Craftsman Home</td>\n",
       "      <td>Serve up some sweet sounds on the piano and wi...</td>\n",
       "      <td>Our gorgeous 3,000 square foot, architecturall...</td>\n",
       "      <td>Serve up some sweet sounds on the piano and wi...</td>\n",
       "      <td>none</td>\n",
       "      <td>This home is in a walkable neighborhood with i...</td>\n",
       "      <td>...</td>\n",
       "      <td>t</td>\n",
       "      <td>f</td>\n",
       "      <td>moderate</td>\n",
       "      <td>t</td>\n",
       "      <td>t</td>\n",
       "      <td>1</td>\n",
       "      <td>0</td>\n",
       "      <td>1</td>\n",
       "      <td>0</td>\n",
       "      <td>4.16</td>\n",
       "    </tr>\n",
       "  </tbody>\n",
       "</table>\n",
       "<p>5 rows × 106 columns</p>\n",
       "</div>"
      ],
      "text/plain": [
       "      id                         listing_url       scrape_id last_scraped  \\\n",
       "0   6422   https://www.airbnb.com/rooms/6422  20200518140247   2020-05-18   \n",
       "1  20847  https://www.airbnb.com/rooms/20847  20200518140247   2020-05-19   \n",
       "2  25341  https://www.airbnb.com/rooms/25341  20200518140247   2020-05-18   \n",
       "3  25342  https://www.airbnb.com/rooms/25342  20200518140247   2020-05-18   \n",
       "4  25613  https://www.airbnb.com/rooms/25613  20200518140247   2020-05-18   \n",
       "\n",
       "                                             name  \\\n",
       "0                                 Nashville Charm   \n",
       "1                     East Nashville Retro Ranch!   \n",
       "2                East Nashville Retro Ranch BR #2   \n",
       "3                East Nashville Retro Ranch BR #3   \n",
       "4  Room in Historic East Nashville Craftsman Home   \n",
       "\n",
       "                                             summary  \\\n",
       "0  Turn of century bungalow in historic, hip East...   \n",
       "1  This listing is no longer available for short ...   \n",
       "2  This listing is no longer available for short ...   \n",
       "3  This listing is no longer available for short ...   \n",
       "4  Serve up some sweet sounds on the piano and wi...   \n",
       "\n",
       "                                               space  \\\n",
       "0  1920 historic bungalow backs up to city park w...   \n",
       "1  -Retro Ranch is nestled in a quiet part of Sou...   \n",
       "2  -Retro Ranch is nestled in a quiet part of Sou...   \n",
       "3  Retro Ranch is nestled in a quiet part of Sout...   \n",
       "4  Our gorgeous 3,000 square foot, architecturall...   \n",
       "\n",
       "                                         description experiences_offered  \\\n",
       "0  Turn of century bungalow in historic, hip East...                none   \n",
       "1  This listing is no longer available for short ...                none   \n",
       "2  This listing is no longer available for short ...                none   \n",
       "3  This listing is no longer available for short ...                none   \n",
       "4  Serve up some sweet sounds on the piano and wi...                none   \n",
       "\n",
       "                               neighborhood_overview  ... instant_bookable  \\\n",
       "0  Historic East Nashville is home to many new an...  ...                f   \n",
       "1  Many local favorites, including live music, th...  ...                f   \n",
       "2  Many local favorites, including live music, th...  ...                f   \n",
       "3  Many local favorites, including live music, th...  ...                f   \n",
       "4  This home is in a walkable neighborhood with i...  ...                t   \n",
       "\n",
       "  is_business_travel_ready          cancellation_policy  \\\n",
       "0                        f  strict_14_with_grace_period   \n",
       "1                        f  strict_14_with_grace_period   \n",
       "2                        f  strict_14_with_grace_period   \n",
       "3                        f  strict_14_with_grace_period   \n",
       "4                        f                     moderate   \n",
       "\n",
       "  require_guest_profile_picture require_guest_phone_verification  \\\n",
       "0                             f                                f   \n",
       "1                             t                                t   \n",
       "2                             t                                t   \n",
       "3                             t                                t   \n",
       "4                             t                                t   \n",
       "\n",
       "   calculated_host_listings_count  \\\n",
       "0                               1   \n",
       "1                               3   \n",
       "2                               3   \n",
       "3                               3   \n",
       "4                               1   \n",
       "\n",
       "   calculated_host_listings_count_entire_homes  \\\n",
       "0                                            0   \n",
       "1                                            0   \n",
       "2                                            0   \n",
       "3                                            0   \n",
       "4                                            0   \n",
       "\n",
       "  calculated_host_listings_count_private_rooms  \\\n",
       "0                                            1   \n",
       "1                                            3   \n",
       "2                                            3   \n",
       "3                                            3   \n",
       "4                                            1   \n",
       "\n",
       "   calculated_host_listings_count_shared_rooms  reviews_per_month  \n",
       "0                                            0               5.01  \n",
       "1                                            0               1.11  \n",
       "2                                            0               0.89  \n",
       "3                                            0               0.04  \n",
       "4                                            0               4.16  \n",
       "\n",
       "[5 rows x 106 columns]"
      ]
     },
     "execution_count": 14,
     "metadata": {},
     "output_type": "execute_result"
    }
   ],
   "source": [
    "properties_df = pd.read_csv('./listings.csv')\n",
    "properties_df.head()"
   ]
  },
  {
   "cell_type": "code",
   "execution_count": 15,
   "metadata": {},
   "outputs": [
    {
     "data": {
      "text/plain": [
       "(7129, 106)"
      ]
     },
     "execution_count": 15,
     "metadata": {},
     "output_type": "execute_result"
    }
   ],
   "source": [
    "properties_df.shape"
   ]
  },
  {
   "cell_type": "markdown",
   "metadata": {},
   "source": [
    "We can drop the majority of columns here, only keeping a few that relate to the size of the property"
   ]
  },
  {
   "cell_type": "code",
   "execution_count": 16,
   "metadata": {},
   "outputs": [],
   "source": [
    "sizing_df = properties_df[['accommodates', 'beds', 'square_feet']]"
   ]
  },
  {
   "cell_type": "code",
   "execution_count": 17,
   "metadata": {},
   "outputs": [
    {
     "data": {
      "text/plain": [
       "(7129, 3)"
      ]
     },
     "execution_count": 17,
     "metadata": {},
     "output_type": "execute_result"
    }
   ],
   "source": [
    "sizing_df.shape"
   ]
  },
  {
   "cell_type": "code",
   "execution_count": 18,
   "metadata": {},
   "outputs": [],
   "source": [
    "sizing_df = sizing_df.dropna(subset=['square_feet'])"
   ]
  },
  {
   "cell_type": "code",
   "execution_count": 19,
   "metadata": {},
   "outputs": [
    {
     "data": {
      "text/plain": [
       "(15, 3)"
      ]
     },
     "execution_count": 19,
     "metadata": {},
     "output_type": "execute_result"
    }
   ],
   "source": [
    "sizing_df.shape"
   ]
  },
  {
   "cell_type": "markdown",
   "metadata": {},
   "source": [
    "Unfortunately only a few Nashville hosts publish the size of their property in square feet. We can therefore drop this column and evaluate the size of Nashville properties based on the number of people they accomodate.\n",
    "\n",
    "As a minimum standard we want to make sure that each property has at least one bed for every two people for a comfortable stay"
   ]
  },
  {
   "cell_type": "code",
   "execution_count": 20,
   "metadata": {},
   "outputs": [
    {
     "data": {
      "text/plain": [
       "(2127, 3)"
      ]
     },
     "execution_count": 20,
     "metadata": {},
     "output_type": "execute_result"
    }
   ],
   "source": [
    "sizing_df = properties_df[['accommodates', 'beds']]\n",
    "sizing_df = sizing_df[sizing_df['beds'] != 0]\n",
    "sizing_df['beds_pp'] = sizing_df['beds']/sizing_df['accommodates']\n",
    "sizing_df = sizing_df[sizing_df['beds_pp'] > 0.5]\n",
    "sizing_df.shape"
   ]
  },
  {
   "cell_type": "code",
   "execution_count": 21,
   "metadata": {},
   "outputs": [],
   "source": [
    "sizes = sizing_df.groupby('accommodates').count()"
   ]
  },
  {
   "cell_type": "code",
   "execution_count": 22,
   "metadata": {},
   "outputs": [
    {
     "data": {
      "text/html": [
       "<div>\n",
       "<style scoped>\n",
       "    .dataframe tbody tr th:only-of-type {\n",
       "        vertical-align: middle;\n",
       "    }\n",
       "\n",
       "    .dataframe tbody tr th {\n",
       "        vertical-align: top;\n",
       "    }\n",
       "\n",
       "    .dataframe thead th {\n",
       "        text-align: right;\n",
       "    }\n",
       "</style>\n",
       "<table border=\"1\" class=\"dataframe\">\n",
       "  <thead>\n",
       "    <tr style=\"text-align: right;\">\n",
       "      <th></th>\n",
       "      <th>beds</th>\n",
       "      <th>beds_pp</th>\n",
       "    </tr>\n",
       "    <tr>\n",
       "      <th>accommodates</th>\n",
       "      <th></th>\n",
       "      <th></th>\n",
       "    </tr>\n",
       "  </thead>\n",
       "  <tbody>\n",
       "    <tr>\n",
       "      <td>1</td>\n",
       "      <td>103</td>\n",
       "      <td>103</td>\n",
       "    </tr>\n",
       "    <tr>\n",
       "      <td>2</td>\n",
       "      <td>102</td>\n",
       "      <td>102</td>\n",
       "    </tr>\n",
       "    <tr>\n",
       "      <td>3</td>\n",
       "      <td>155</td>\n",
       "      <td>155</td>\n",
       "    </tr>\n",
       "    <tr>\n",
       "      <td>4</td>\n",
       "      <td>169</td>\n",
       "      <td>169</td>\n",
       "    </tr>\n",
       "    <tr>\n",
       "      <td>5</td>\n",
       "      <td>110</td>\n",
       "      <td>110</td>\n",
       "    </tr>\n",
       "    <tr>\n",
       "      <td>6</td>\n",
       "      <td>243</td>\n",
       "      <td>243</td>\n",
       "    </tr>\n",
       "    <tr>\n",
       "      <td>7</td>\n",
       "      <td>85</td>\n",
       "      <td>85</td>\n",
       "    </tr>\n",
       "    <tr>\n",
       "      <td>8</td>\n",
       "      <td>192</td>\n",
       "      <td>192</td>\n",
       "    </tr>\n",
       "    <tr>\n",
       "      <td>9</td>\n",
       "      <td>33</td>\n",
       "      <td>33</td>\n",
       "    </tr>\n",
       "    <tr>\n",
       "      <td>10</td>\n",
       "      <td>369</td>\n",
       "      <td>369</td>\n",
       "    </tr>\n",
       "    <tr>\n",
       "      <td>11</td>\n",
       "      <td>10</td>\n",
       "      <td>10</td>\n",
       "    </tr>\n",
       "    <tr>\n",
       "      <td>12</td>\n",
       "      <td>410</td>\n",
       "      <td>410</td>\n",
       "    </tr>\n",
       "    <tr>\n",
       "      <td>13</td>\n",
       "      <td>1</td>\n",
       "      <td>1</td>\n",
       "    </tr>\n",
       "    <tr>\n",
       "      <td>14</td>\n",
       "      <td>4</td>\n",
       "      <td>4</td>\n",
       "    </tr>\n",
       "    <tr>\n",
       "      <td>16</td>\n",
       "      <td>113</td>\n",
       "      <td>113</td>\n",
       "    </tr>\n",
       "    <tr>\n",
       "      <td>18</td>\n",
       "      <td>1</td>\n",
       "      <td>1</td>\n",
       "    </tr>\n",
       "    <tr>\n",
       "      <td>20</td>\n",
       "      <td>13</td>\n",
       "      <td>13</td>\n",
       "    </tr>\n",
       "    <tr>\n",
       "      <td>24</td>\n",
       "      <td>8</td>\n",
       "      <td>8</td>\n",
       "    </tr>\n",
       "    <tr>\n",
       "      <td>30</td>\n",
       "      <td>1</td>\n",
       "      <td>1</td>\n",
       "    </tr>\n",
       "    <tr>\n",
       "      <td>36</td>\n",
       "      <td>1</td>\n",
       "      <td>1</td>\n",
       "    </tr>\n",
       "    <tr>\n",
       "      <td>37</td>\n",
       "      <td>1</td>\n",
       "      <td>1</td>\n",
       "    </tr>\n",
       "    <tr>\n",
       "      <td>48</td>\n",
       "      <td>2</td>\n",
       "      <td>2</td>\n",
       "    </tr>\n",
       "    <tr>\n",
       "      <td>80</td>\n",
       "      <td>1</td>\n",
       "      <td>1</td>\n",
       "    </tr>\n",
       "  </tbody>\n",
       "</table>\n",
       "</div>"
      ],
      "text/plain": [
       "              beds  beds_pp\n",
       "accommodates               \n",
       "1              103      103\n",
       "2              102      102\n",
       "3              155      155\n",
       "4              169      169\n",
       "5              110      110\n",
       "6              243      243\n",
       "7               85       85\n",
       "8              192      192\n",
       "9               33       33\n",
       "10             369      369\n",
       "11              10       10\n",
       "12             410      410\n",
       "13               1        1\n",
       "14               4        4\n",
       "16             113      113\n",
       "18               1        1\n",
       "20              13       13\n",
       "24               8        8\n",
       "30               1        1\n",
       "36               1        1\n",
       "37               1        1\n",
       "48               2        2\n",
       "80               1        1"
      ]
     },
     "execution_count": 22,
     "metadata": {},
     "output_type": "execute_result"
    }
   ],
   "source": [
    "sizes"
   ]
  },
  {
   "cell_type": "code",
   "execution_count": 51,
   "metadata": {},
   "outputs": [
    {
     "data": {
      "text/plain": [
       "(0, 18)"
      ]
     },
     "execution_count": 51,
     "metadata": {},
     "output_type": "execute_result"
    },
    {
     "data": {
      "image/png": "[encoded data removed]",
      "text/plain": [
       "<Figure size 720x720 with 1 Axes>"
      ]
     },
     "metadata": {
      "needs_background": "light"
     },
     "output_type": "display_data"
    }
   ],
   "source": [
    "fig, ax = plt.subplots(figsize=(10,10))\n",
    "ax.bar(sizes.index, sizes.beds, color = '#539caf', alpha = 0.75)\n",
    "ax.set_title('Property sizes in Nashville, TN')\n",
    "ax.set_xlim(0,18)"
   ]
  },
  {
   "cell_type": "markdown",
   "metadata": {},
   "source": [
    "Lets compare to some other cities"
   ]
  },
  {
   "cell_type": "code",
   "execution_count": 41,
   "metadata": {},
   "outputs": [],
   "source": [
    "def get_airbnb_sizes(city):\n",
    "    '''\n",
    "    INPUT:\n",
    "    city - a string of the city name for the data we want to analyse \n",
    "    OUTPUT:\n",
    "    sizes - a dataframe containing a count of the properties in the city grouped by the number of guests they can accommodate\n",
    "\n",
    "    Provides a dataframe that can be used to determine the spread of airbnb sizes across a city from their airbnb listings csv file\n",
    "    '''\n",
    "    df = pd.read_csv(f'./{city}_listings.csv')\n",
    "    sizing_df = df[['accommodates', 'beds']]\n",
    "    sizing_df = sizing_df[sizing_df['beds'] != 0]\n",
    "    sizing_df['beds_pp'] = sizing_df['beds']/sizing_df['accommodates']\n",
    "    sizing_df = sizing_df[sizing_df['beds_pp'] > 0.5]\n",
    "    sizing_df = sizing_df[sizing_df['accommodates'] < 20]\n",
    "    sizes = sizing_df.groupby('accommodates').count()\n",
    "    \n",
    "    return sizes"
   ]
  },
  {
   "cell_type": "code",
   "execution_count": 42,
   "metadata": {},
   "outputs": [],
   "source": [
    "Asheville_airbnbs = get_airbnb_sizes('Asheville')"
   ]
  },
  {
   "cell_type": "code",
   "execution_count": 45,
   "metadata": {},
   "outputs": [],
   "source": [
    "Austin_airbnbs = get_airbnb_sizes('Austin')"
   ]
  },
  {
   "cell_type": "code",
   "execution_count": 44,
   "metadata": {},
   "outputs": [],
   "source": [
    "Boston_airbnbs = get_airbnb_sizes('Boston')"
   ]
  },
  {
   "cell_type": "code",
   "execution_count": 52,
   "metadata": {},
   "outputs": [
    {
     "data": {
      "text/plain": [
       "(0, 18)"
      ]
     },
     "execution_count": 52,
     "metadata": {},
     "output_type": "execute_result"
    },
    {
     "data": {
      "image/png": "[encoded data removed]",
      "text/plain": [
       "<Figure size 864x864 with 3 Axes>"
      ]
     },
     "metadata": {
      "needs_background": "light"
     },
     "output_type": "display_data"
    }
   ],
   "source": [
    "fig, (ax1, ax2, ax3) = plt.subplots(3, 1, figsize=(12,12))\n",
    "ax1.bar(Asheville_airbnbs.index, Asheville_airbnbs.beds, color = '#539caf', alpha = 0.75)\n",
    "ax1.set_title('Asheville, NC')\n",
    "ax1.set_xlim(0,18)\n",
    "\n",
    "ax2.bar(Austin_airbnbs.index, Austin_airbnbs.beds, color = '#539caf', alpha = 0.75)\n",
    "ax2.set_title('Austin, TX')\n",
    "ax2.set_xlim(0,18)\n",
    "\n",
    "ax3.bar(Boston_airbnbs.index, Boston_airbnbs.beds, color = '#539caf', alpha = 0.75)\n",
    "ax3.set_title('Boston, MA')\n",
    "ax3.set_xlim(0,18)"
   ]
  },
  {
   "cell_type": "markdown",
   "metadata": {},
   "source": [
    "**Finding out what features result in a good review**"
   ]
  },
  {
   "cell_type": "code",
   "execution_count": 91,
   "metadata": {},
   "outputs": [],
   "source": [
    "# Getting a list of features for our model\n",
    "features = ['review_scores_rating', 'instant_bookable', 'is_business_travel_ready', 'cancellation_policy', 'calculated_host_listings_count', \n",
    "            'calculated_host_listings_count_entire_homes', 'calculated_host_listings_count_private_rooms', \n",
    "            'calculated_host_listings_count_shared_rooms', 'reviews_per_month']"
   ]
  },
  {
   "cell_type": "code",
   "execution_count": 92,
   "metadata": {},
   "outputs": [],
   "source": [
    "df = properties_df[features]"
   ]
  },
  {
   "cell_type": "code",
   "execution_count": 93,
   "metadata": {},
   "outputs": [
    {
     "data": {
      "text/html": [
       "<div>\n",
       "<style scoped>\n",
       "    .dataframe tbody tr th:only-of-type {\n",
       "        vertical-align: middle;\n",
       "    }\n",
       "\n",
       "    .dataframe tbody tr th {\n",
       "        vertical-align: top;\n",
       "    }\n",
       "\n",
       "    .dataframe thead th {\n",
       "        text-align: right;\n",
       "    }\n",
       "</style>\n",
       "<table border=\"1\" class=\"dataframe\">\n",
       "  <thead>\n",
       "    <tr style=\"text-align: right;\">\n",
       "      <th></th>\n",
       "      <th>review_scores_rating</th>\n",
       "      <th>instant_bookable</th>\n",
       "      <th>is_business_travel_ready</th>\n",
       "      <th>cancellation_policy</th>\n",
       "      <th>calculated_host_listings_count</th>\n",
       "      <th>calculated_host_listings_count_entire_homes</th>\n",
       "      <th>calculated_host_listings_count_private_rooms</th>\n",
       "      <th>calculated_host_listings_count_shared_rooms</th>\n",
       "      <th>reviews_per_month</th>\n",
       "    </tr>\n",
       "  </thead>\n",
       "  <tbody>\n",
       "    <tr>\n",
       "      <td>0</td>\n",
       "      <td>99.0</td>\n",
       "      <td>f</td>\n",
       "      <td>f</td>\n",
       "      <td>strict_14_with_grace_period</td>\n",
       "      <td>1</td>\n",
       "      <td>0</td>\n",
       "      <td>1</td>\n",
       "      <td>0</td>\n",
       "      <td>5.01</td>\n",
       "    </tr>\n",
       "    <tr>\n",
       "      <td>1</td>\n",
       "      <td>94.0</td>\n",
       "      <td>f</td>\n",
       "      <td>f</td>\n",
       "      <td>strict_14_with_grace_period</td>\n",
       "      <td>3</td>\n",
       "      <td>0</td>\n",
       "      <td>3</td>\n",
       "      <td>0</td>\n",
       "      <td>1.11</td>\n",
       "    </tr>\n",
       "    <tr>\n",
       "      <td>2</td>\n",
       "      <td>96.0</td>\n",
       "      <td>f</td>\n",
       "      <td>f</td>\n",
       "      <td>strict_14_with_grace_period</td>\n",
       "      <td>3</td>\n",
       "      <td>0</td>\n",
       "      <td>3</td>\n",
       "      <td>0</td>\n",
       "      <td>0.89</td>\n",
       "    </tr>\n",
       "    <tr>\n",
       "      <td>3</td>\n",
       "      <td>93.0</td>\n",
       "      <td>f</td>\n",
       "      <td>f</td>\n",
       "      <td>strict_14_with_grace_period</td>\n",
       "      <td>3</td>\n",
       "      <td>0</td>\n",
       "      <td>3</td>\n",
       "      <td>0</td>\n",
       "      <td>0.04</td>\n",
       "    </tr>\n",
       "    <tr>\n",
       "      <td>4</td>\n",
       "      <td>97.0</td>\n",
       "      <td>t</td>\n",
       "      <td>f</td>\n",
       "      <td>moderate</td>\n",
       "      <td>1</td>\n",
       "      <td>0</td>\n",
       "      <td>1</td>\n",
       "      <td>0</td>\n",
       "      <td>4.16</td>\n",
       "    </tr>\n",
       "  </tbody>\n",
       "</table>\n",
       "</div>"
      ],
      "text/plain": [
       "   review_scores_rating instant_bookable is_business_travel_ready  \\\n",
       "0                  99.0                f                        f   \n",
       "1                  94.0                f                        f   \n",
       "2                  96.0                f                        f   \n",
       "3                  93.0                f                        f   \n",
       "4                  97.0                t                        f   \n",
       "\n",
       "           cancellation_policy  calculated_host_listings_count  \\\n",
       "0  strict_14_with_grace_period                               1   \n",
       "1  strict_14_with_grace_period                               3   \n",
       "2  strict_14_with_grace_period                               3   \n",
       "3  strict_14_with_grace_period                               3   \n",
       "4                     moderate                               1   \n",
       "\n",
       "   calculated_host_listings_count_entire_homes  \\\n",
       "0                                            0   \n",
       "1                                            0   \n",
       "2                                            0   \n",
       "3                                            0   \n",
       "4                                            0   \n",
       "\n",
       "   calculated_host_listings_count_private_rooms  \\\n",
       "0                                             1   \n",
       "1                                             3   \n",
       "2                                             3   \n",
       "3                                             3   \n",
       "4                                             1   \n",
       "\n",
       "   calculated_host_listings_count_shared_rooms  reviews_per_month  \n",
       "0                                            0               5.01  \n",
       "1                                            0               1.11  \n",
       "2                                            0               0.89  \n",
       "3                                            0               0.04  \n",
       "4                                            0               4.16  "
      ]
     },
     "execution_count": 93,
     "metadata": {},
     "output_type": "execute_result"
    }
   ],
   "source": [
    "df.head()"
   ]
  },
  {
   "cell_type": "code",
   "execution_count": 94,
   "metadata": {},
   "outputs": [
    {
     "data": {
      "text/plain": [
       "(7129, 9)"
      ]
     },
     "execution_count": 94,
     "metadata": {},
     "output_type": "execute_result"
    }
   ],
   "source": [
    "df.shape"
   ]
  },
  {
   "cell_type": "code",
   "execution_count": 95,
   "metadata": {},
   "outputs": [
    {
     "data": {
      "text/html": [
       "<div>\n",
       "<style scoped>\n",
       "    .dataframe tbody tr th:only-of-type {\n",
       "        vertical-align: middle;\n",
       "    }\n",
       "\n",
       "    .dataframe tbody tr th {\n",
       "        vertical-align: top;\n",
       "    }\n",
       "\n",
       "    .dataframe thead th {\n",
       "        text-align: right;\n",
       "    }\n",
       "</style>\n",
       "<table border=\"1\" class=\"dataframe\">\n",
       "  <thead>\n",
       "    <tr style=\"text-align: right;\">\n",
       "      <th></th>\n",
       "      <th>review_scores_rating</th>\n",
       "      <th>calculated_host_listings_count</th>\n",
       "      <th>calculated_host_listings_count_entire_homes</th>\n",
       "      <th>calculated_host_listings_count_private_rooms</th>\n",
       "      <th>calculated_host_listings_count_shared_rooms</th>\n",
       "      <th>reviews_per_month</th>\n",
       "    </tr>\n",
       "  </thead>\n",
       "  <tbody>\n",
       "    <tr>\n",
       "      <td>count</td>\n",
       "      <td>6069.000000</td>\n",
       "      <td>7129.000000</td>\n",
       "      <td>7129.000000</td>\n",
       "      <td>7129.000000</td>\n",
       "      <td>7129.000000</td>\n",
       "      <td>6102.000000</td>\n",
       "    </tr>\n",
       "    <tr>\n",
       "      <td>mean</td>\n",
       "      <td>96.508980</td>\n",
       "      <td>22.277037</td>\n",
       "      <td>21.712863</td>\n",
       "      <td>0.367934</td>\n",
       "      <td>0.004068</td>\n",
       "      <td>2.353858</td>\n",
       "    </tr>\n",
       "    <tr>\n",
       "      <td>std</td>\n",
       "      <td>5.797801</td>\n",
       "      <td>40.209730</td>\n",
       "      <td>40.302555</td>\n",
       "      <td>1.133110</td>\n",
       "      <td>0.075733</td>\n",
       "      <td>2.056499</td>\n",
       "    </tr>\n",
       "    <tr>\n",
       "      <td>min</td>\n",
       "      <td>20.000000</td>\n",
       "      <td>1.000000</td>\n",
       "      <td>0.000000</td>\n",
       "      <td>0.000000</td>\n",
       "      <td>0.000000</td>\n",
       "      <td>0.020000</td>\n",
       "    </tr>\n",
       "    <tr>\n",
       "      <td>25%</td>\n",
       "      <td>96.000000</td>\n",
       "      <td>1.000000</td>\n",
       "      <td>1.000000</td>\n",
       "      <td>0.000000</td>\n",
       "      <td>0.000000</td>\n",
       "      <td>0.760000</td>\n",
       "    </tr>\n",
       "    <tr>\n",
       "      <td>50%</td>\n",
       "      <td>98.000000</td>\n",
       "      <td>3.000000</td>\n",
       "      <td>2.000000</td>\n",
       "      <td>0.000000</td>\n",
       "      <td>0.000000</td>\n",
       "      <td>1.880000</td>\n",
       "    </tr>\n",
       "    <tr>\n",
       "      <td>75%</td>\n",
       "      <td>100.000000</td>\n",
       "      <td>19.000000</td>\n",
       "      <td>19.000000</td>\n",
       "      <td>0.000000</td>\n",
       "      <td>0.000000</td>\n",
       "      <td>3.377500</td>\n",
       "    </tr>\n",
       "    <tr>\n",
       "      <td>max</td>\n",
       "      <td>100.000000</td>\n",
       "      <td>155.000000</td>\n",
       "      <td>155.000000</td>\n",
       "      <td>10.000000</td>\n",
       "      <td>2.000000</td>\n",
       "      <td>32.590000</td>\n",
       "    </tr>\n",
       "  </tbody>\n",
       "</table>\n",
       "</div>"
      ],
      "text/plain": [
       "       review_scores_rating  calculated_host_listings_count  \\\n",
       "count           6069.000000                     7129.000000   \n",
       "mean              96.508980                       22.277037   \n",
       "std                5.797801                       40.209730   \n",
       "min               20.000000                        1.000000   \n",
       "25%               96.000000                        1.000000   \n",
       "50%               98.000000                        3.000000   \n",
       "75%              100.000000                       19.000000   \n",
       "max              100.000000                      155.000000   \n",
       "\n",
       "       calculated_host_listings_count_entire_homes  \\\n",
       "count                                  7129.000000   \n",
       "mean                                     21.712863   \n",
       "std                                      40.302555   \n",
       "min                                       0.000000   \n",
       "25%                                       1.000000   \n",
       "50%                                       2.000000   \n",
       "75%                                      19.000000   \n",
       "max                                     155.000000   \n",
       "\n",
       "       calculated_host_listings_count_private_rooms  \\\n",
       "count                                   7129.000000   \n",
       "mean                                       0.367934   \n",
       "std                                        1.133110   \n",
       "min                                        0.000000   \n",
       "25%                                        0.000000   \n",
       "50%                                        0.000000   \n",
       "75%                                        0.000000   \n",
       "max                                       10.000000   \n",
       "\n",
       "       calculated_host_listings_count_shared_rooms  reviews_per_month  \n",
       "count                                  7129.000000        6102.000000  \n",
       "mean                                      0.004068           2.353858  \n",
       "std                                       0.075733           2.056499  \n",
       "min                                       0.000000           0.020000  \n",
       "25%                                       0.000000           0.760000  \n",
       "50%                                       0.000000           1.880000  \n",
       "75%                                       0.000000           3.377500  \n",
       "max                                       2.000000          32.590000  "
      ]
     },
     "execution_count": 95,
     "metadata": {},
     "output_type": "execute_result"
    }
   ],
   "source": [
    "df.describe()"
   ]
  },
  {
   "cell_type": "code",
   "execution_count": 96,
   "metadata": {},
   "outputs": [],
   "source": [
    "# removing rows without a review score rating as that is our target and no reviews per month\n",
    "df = df.dropna(subset=['review_scores_rating','reviews_per_month'], axis=0)"
   ]
  },
  {
   "cell_type": "code",
   "execution_count": 97,
   "metadata": {},
   "outputs": [],
   "source": [
    "# Encoding the categorical variables\n",
    "cat_cols = ['instant_bookable', 'is_business_travel_ready', 'cancellation_policy']\n",
    "for col in  cat_cols:\n",
    "    df = pd.concat([df.drop(col, axis=1), pd.get_dummies(df[col], prefix=col, prefix_sep='_', drop_first=True, dummy_na=False)], axis=1)"
   ]
  },
  {
   "cell_type": "code",
   "execution_count": 98,
   "metadata": {},
   "outputs": [
    {
     "data": {
      "text/plain": [
       "0.040290017057743266"
      ]
     },
     "execution_count": 98,
     "metadata": {},
     "output_type": "execute_result"
    }
   ],
   "source": [
    "# Preparing our X and y\n",
    "X = df.drop('review_scores_rating', axis=1)\n",
    "y = df['review_scores_rating']\n",
    "\n",
    "# Splitting train and test\n",
    "X_train, X_test, y_train, y_test = train_test_split(X, y, test_size=0.3, random_state=42)\n",
    "\n",
    "# Instantiate the model\n",
    "lm_model = LinearRegression(normalize=True)\n",
    "\n",
    "# Fit the model\n",
    "lm_model.fit(X_train, y_train)\n",
    "\n",
    "# Predict our y test values\n",
    "y_test_preds = lm_model.predict(X_test)\n",
    "\n",
    "# Score our y test\n",
    "r2_score(y_test, y_test_preds)\n"
   ]
  },
  {
   "cell_type": "markdown",
   "metadata": {},
   "source": [
    "To find out which of our features had the biggest impact we need to order them by their coefficients"
   ]
  },
  {
   "cell_type": "code",
   "execution_count": 110,
   "metadata": {},
   "outputs": [
    {
     "data": {
      "text/html": [
       "<div>\n",
       "<style scoped>\n",
       "    .dataframe tbody tr th:only-of-type {\n",
       "        vertical-align: middle;\n",
       "    }\n",
       "\n",
       "    .dataframe tbody tr th {\n",
       "        vertical-align: top;\n",
       "    }\n",
       "\n",
       "    .dataframe thead th {\n",
       "        text-align: right;\n",
       "    }\n",
       "</style>\n",
       "<table border=\"1\" class=\"dataframe\">\n",
       "  <thead>\n",
       "    <tr style=\"text-align: right;\">\n",
       "      <th></th>\n",
       "      <th>feature</th>\n",
       "      <th>coefs</th>\n",
       "      <th>abs_coefs</th>\n",
       "    </tr>\n",
       "  </thead>\n",
       "  <tbody>\n",
       "    <tr>\n",
       "      <td>8</td>\n",
       "      <td>cancellation_policy_super_strict_30</td>\n",
       "      <td>-2.898720</td>\n",
       "      <td>2.898720</td>\n",
       "    </tr>\n",
       "    <tr>\n",
       "      <td>3</td>\n",
       "      <td>calculated_host_listings_count_shared_rooms</td>\n",
       "      <td>-2.659718</td>\n",
       "      <td>2.659718</td>\n",
       "    </tr>\n",
       "    <tr>\n",
       "      <td>9</td>\n",
       "      <td>cancellation_policy_super_strict_60</td>\n",
       "      <td>-1.154752</td>\n",
       "      <td>1.154752</td>\n",
       "    </tr>\n",
       "    <tr>\n",
       "      <td>5</td>\n",
       "      <td>instant_bookable_t</td>\n",
       "      <td>-0.937909</td>\n",
       "      <td>0.937909</td>\n",
       "    </tr>\n",
       "    <tr>\n",
       "      <td>7</td>\n",
       "      <td>cancellation_policy_strict_14_with_grace_period</td>\n",
       "      <td>-0.228951</td>\n",
       "      <td>0.228951</td>\n",
       "    </tr>\n",
       "    <tr>\n",
       "      <td>6</td>\n",
       "      <td>cancellation_policy_moderate</td>\n",
       "      <td>0.156188</td>\n",
       "      <td>0.156188</td>\n",
       "    </tr>\n",
       "    <tr>\n",
       "      <td>1</td>\n",
       "      <td>calculated_host_listings_count_entire_homes</td>\n",
       "      <td>-0.062871</td>\n",
       "      <td>0.062871</td>\n",
       "    </tr>\n",
       "    <tr>\n",
       "      <td>0</td>\n",
       "      <td>calculated_host_listings_count</td>\n",
       "      <td>0.051753</td>\n",
       "      <td>0.051753</td>\n",
       "    </tr>\n",
       "    <tr>\n",
       "      <td>2</td>\n",
       "      <td>calculated_host_listings_count_private_rooms</td>\n",
       "      <td>-0.048414</td>\n",
       "      <td>0.048414</td>\n",
       "    </tr>\n",
       "    <tr>\n",
       "      <td>4</td>\n",
       "      <td>reviews_per_month</td>\n",
       "      <td>0.046179</td>\n",
       "      <td>0.046179</td>\n",
       "    </tr>\n",
       "  </tbody>\n",
       "</table>\n",
       "</div>"
      ],
      "text/plain": [
       "                                           feature     coefs  abs_coefs\n",
       "8              cancellation_policy_super_strict_30 -2.898720   2.898720\n",
       "3      calculated_host_listings_count_shared_rooms -2.659718   2.659718\n",
       "9              cancellation_policy_super_strict_60 -1.154752   1.154752\n",
       "5                               instant_bookable_t -0.937909   0.937909\n",
       "7  cancellation_policy_strict_14_with_grace_period -0.228951   0.228951\n",
       "6                     cancellation_policy_moderate  0.156188   0.156188\n",
       "1      calculated_host_listings_count_entire_homes -0.062871   0.062871\n",
       "0                   calculated_host_listings_count  0.051753   0.051753\n",
       "2     calculated_host_listings_count_private_rooms -0.048414   0.048414\n",
       "4                                reviews_per_month  0.046179   0.046179"
      ]
     },
     "execution_count": 110,
     "metadata": {},
     "output_type": "execute_result"
    }
   ],
   "source": [
    "coefs_df = pd.DataFrame()\n",
    "coefs_df['feature'] = X_train.columns\n",
    "coefs_df['coefs'] = lm_model.coef_\n",
    "coefs_df['abs_coefs'] = np.abs(lm_model.coef_)\n",
    "coefs_df = coefs_df.sort_values('abs_coefs', ascending=False)\n",
    "coefs_df"
   ]
  },
  {
   "cell_type": "code",
   "execution_count": 113,
   "metadata": {},
   "outputs": [
    {
     "data": {
      "text/plain": [
       "[Text(0, 0, 'calculated_host_listings_count'),\n",
       " Text(0, 0, 'calculated_host_listings_count_entire_homes'),\n",
       " Text(0, 0, 'calculated_host_listings_count_private_rooms'),\n",
       " Text(0, 0, 'calculated_host_listings_count_shared_rooms'),\n",
       " Text(0, 0, 'reviews_per_month'),\n",
       " Text(0, 0, 'instant_bookable_t'),\n",
       " Text(0, 0, 'cancellation_policy_moderate')]"
      ]
     },
     "execution_count": 113,
     "metadata": {},
     "output_type": "execute_result"
    },
    {
     "data": {
      "image/png": "[encoded data removed]",
      "text/plain": [
       "<Figure size 720x720 with 1 Axes>"
      ]
     },
     "metadata": {
      "needs_background": "light"
     },
     "output_type": "display_data"
    }
   ],
   "source": [
    "fig, ax = plt.subplots(figsize=(10,10))\n",
    "\n",
    "ax.scatter(x=pd.np.arange(coefs_df.shape[0]), \n",
    "           marker='s', s=30, \n",
    "           y=coefs_df['coefs'], color='black')\n",
    "ax.xaxis.set_ticks_position('none')\n",
    "ax.set_xticklabels(X_train.columns, rotation=90, fontsize=12)"
   ]
  },
  {
   "cell_type": "code",
   "execution_count": null,
   "metadata": {},
   "outputs": [],
   "source": []
  }
 ],
 "metadata": {
  "kernelspec": {
   "display_name": "Python 3",
   "language": "python",
   "name": "python3"
  },
  "language_info": {
   "codemirror_mode": {
    "name": "ipython",
    "version": 3
   },
   "file_extension": ".py",
   "mimetype": "text/x-python",
   "name": "python",
   "nbconvert_exporter": "python",
   "pygments_lexer": "ipython3",
   "version": "3.7.4"
  }
 },
 "nbformat": 4,
 "nbformat_minor": 4
}
